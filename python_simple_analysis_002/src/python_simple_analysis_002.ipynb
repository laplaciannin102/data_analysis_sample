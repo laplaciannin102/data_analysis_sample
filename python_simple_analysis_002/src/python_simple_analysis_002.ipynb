{
 "cells": [
  {
   "cell_type": "markdown",
   "metadata": {},
   "source": [
    "# Load modules"
   ]
  },
  {
   "cell_type": "code",
   "execution_count": null,
   "metadata": {
    "scrolled": true
   },
   "outputs": [],
   "source": [
    "import sys, os\n",
    "import gc\n",
    "import time\n",
    "import copy\n",
    "import numpy as np\n",
    "import pandas as pd\n",
    "import seaborn as sns\n",
    "import matplotlib.pyplot as plt\n",
    "import configparser\n",
    "from glob import glob\n",
    "from pathlib import Path\n",
    "\n",
    "%matplotlib inline"
   ]
  },
  {
   "cell_type": "code",
   "execution_count": null,
   "metadata": {},
   "outputs": [],
   "source": [
    "# third-party module\n",
    "import japanize_matplotlib"
   ]
  },
  {
   "cell_type": "code",
   "execution_count": null,
   "metadata": {},
   "outputs": [],
   "source": [
    "gc.collect()"
   ]
  },
  {
   "cell_type": "markdown",
   "metadata": {},
   "source": [
    "# Configuration"
   ]
  },
  {
   "cell_type": "markdown",
   "metadata": {},
   "source": [
    "## warningの削除"
   ]
  },
  {
   "cell_type": "code",
   "execution_count": null,
   "metadata": {},
   "outputs": [],
   "source": [
    "# warningの削除\n",
    "import warnings\n",
    "warnings.filterwarnings('ignore')"
   ]
  },
  {
   "cell_type": "markdown",
   "metadata": {},
   "source": [
    "## 左寄せにするマジックコマンド"
   ]
  },
  {
   "cell_type": "code",
   "execution_count": null,
   "metadata": {},
   "outputs": [],
   "source": [
    "%%html\n",
    "<style>\n",
    "    table{float:left}\n",
    "    .MathJax{float: left;}\n",
    "</style>"
   ]
  },
  {
   "cell_type": "markdown",
   "metadata": {},
   "source": [
    "## データフレームの表示設定"
   ]
  },
  {
   "cell_type": "code",
   "execution_count": null,
   "metadata": {},
   "outputs": [],
   "source": [
    "# データフレームの表示行数、表示列数\n",
    "pd.set_option('display.max_columns', 100)\n",
    "pd.set_option('display.max_rows', 200)\n",
    "\n",
    "# カラム内の文字数。デフォルトは50。\n",
    "pd.set_option('display.max_colwidth', 100)"
   ]
  },
  {
   "cell_type": "markdown",
   "metadata": {},
   "source": [
    "## パスの設定"
   ]
  },
  {
   "cell_type": "code",
   "execution_count": null,
   "metadata": {},
   "outputs": [],
   "source": [
    "# ファイルのパス\n",
    "path = os.getcwd()\n",
    "# 一応チェンジディレクトリしておく\n",
    "os.chdir(path)"
   ]
  },
  {
   "cell_type": "markdown",
   "metadata": {},
   "source": [
    "# Constants"
   ]
  },
  {
   "cell_type": "markdown",
   "metadata": {},
   "source": [
    "## paths"
   ]
  },
  {
   "cell_type": "code",
   "execution_count": null,
   "metadata": {},
   "outputs": [],
   "source": [
    "# 入力データ\n",
    "input_path = '../input/'\n",
    "\n",
    "# 出力データ\n",
    "output_path = '../output/'\n",
    "\n",
    "# 中間データ\n",
    "interm_path = '../intermediate/'"
   ]
  },
  {
   "cell_type": "markdown",
   "metadata": {},
   "source": [
    "## features"
   ]
  },
  {
   "cell_type": "code",
   "execution_count": null,
   "metadata": {},
   "outputs": [],
   "source": [
    "# 説明変数\n",
    "features = []"
   ]
  },
  {
   "cell_type": "markdown",
   "metadata": {},
   "source": [
    "## target"
   ]
  },
  {
   "cell_type": "code",
   "execution_count": null,
   "metadata": {},
   "outputs": [],
   "source": [
    "# 目的変数\n",
    "target = ''"
   ]
  },
  {
   "cell_type": "markdown",
   "metadata": {},
   "source": [
    "# Functions"
   ]
  },
  {
   "cell_type": "markdown",
   "metadata": {},
   "source": [
    "## pro_round"
   ]
  },
  {
   "cell_type": "code",
   "execution_count": null,
   "metadata": {
    "code_folding": []
   },
   "outputs": [],
   "source": [
    "def pro_round(num, ndigits=0):\n",
    "    \"\"\"\n",
    "    数字を四捨五入で丸める。\n",
    "\n",
    "    Args:\n",
    "        num: int or float\n",
    "            丸めたい数字。\n",
    "\n",
    "        ndigits: int, optional(default=0)\n",
    "            丸めた後の小数部分の桁数。\n",
    "\n",
    "    Returns:\n",
    "        rounded: int or float\n",
    "            丸めた後の数字。\n",
    "    \"\"\"\n",
    "    num *= 10 ** ndigits\n",
    "    rounded = ( 2 * num + 1 ) // 2\n",
    "    rounded /= 10 ** ndigits\n",
    "\n",
    "    if ndigits == 0:\n",
    "        rounded = int(rounded)\n",
    "\n",
    "    return rounded"
   ]
  },
  {
   "cell_type": "markdown",
   "metadata": {},
   "source": [
    "## sturges_rule"
   ]
  },
  {
   "cell_type": "code",
   "execution_count": null,
   "metadata": {
    "code_folding": [
     0
    ]
   },
   "outputs": [],
   "source": [
    "def sturges_rule(num):\n",
    "    \"\"\"\n",
    "    スタージェスの公式を用いて、\n",
    "    サンプルサイズから階級(カテゴリ、ビン(bins))の数を計算する。\n",
    "    公式のTeX表記: \\[bins = 1 + \\log_2{N} \\nonumber \\]\n",
    "\n",
    "    Args:\n",
    "        num: int\n",
    "            サンプルサイズ。原則1以上の整数を想定。\n",
    "    \n",
    "    Returns:\n",
    "        n_bins: int\n",
    "            スタージェスの公式から導かれた適切な階級の数。\n",
    "    \"\"\"\n",
    "    # numが0以下の時は1を返す\n",
    "    if num <= 0:\n",
    "        num = 1\n",
    "        return 1\n",
    "    \n",
    "    # スタージェスの公式\n",
    "    n_bins = int(pro_round(1 + np.log2(num), 0))\n",
    "    \n",
    "    return n_bins"
   ]
  },
  {
   "cell_type": "markdown",
   "metadata": {},
   "source": [
    "## print_elapsed_time"
   ]
  },
  {
   "cell_type": "code",
   "execution_count": null,
   "metadata": {
    "code_folding": [
     0
    ]
   },
   "outputs": [],
   "source": [
    "def print_elapsed_time(start):\n",
    "    \"\"\"\n",
    "    経過時間を表示する。\n",
    "    使用前にtime.time()でスタート時間を取得しておく。\n",
    "\n",
    "    Args:\n",
    "        start: float\n",
    "            計測開始時間。\n",
    "    \n",
    "    Returns:\n",
    "        elapsed_time: float\n",
    "            経過時間。\n",
    "    \"\"\"\n",
    "    end = time.time()\n",
    "    elapsed_time = float(end - start)\n",
    "    rounded_elapsed_time = pro_round(num=elapsed_time, ndigits=1)\n",
    "    print('elapsed time:', rounded_elapsed_time, 's')\n",
    "    return elapsed_time"
   ]
  },
  {
   "cell_type": "markdown",
   "metadata": {},
   "source": [
    "## list_segments"
   ]
  },
  {
   "cell_type": "code",
   "execution_count": null,
   "metadata": {
    "code_folding": [
     0
    ]
   },
   "outputs": [],
   "source": [
    "def list_segments(dir_path='./', rescursive=False, extension=None):\n",
    "    \"\"\"\n",
    "    dir_path以下にあるファイルの相対パスのリストを返す\n",
    "\n",
    "    Args:\n",
    "        dir_path: str, optional(default='./')\n",
    "            検索したいディレクトリのパス。\n",
    "\n",
    "        rescursive: bool, optional(default=False)\n",
    "            再帰的に検索するかどうか。\n",
    "\n",
    "        extension: str, list of str or tuple of str, optional(default=None)\n",
    "            拡張子。'csv'とか['csv', 'xlsx']とかみたいな形で指定。\n",
    "\n",
    "    Returns:\n",
    "        path_list: list of str\n",
    "            ファイルの相対パスのリスト。\n",
    "    \"\"\"\n",
    "    # ディレクトリ\n",
    "    dir_p = Path(dir_path)\n",
    "\n",
    "    # 再帰的に検索するかどうか\n",
    "    resc_path = './*'\n",
    "    if rescursive:\n",
    "        resc_path = '**/*'\n",
    "\n",
    "    # 拡張子\n",
    "    if extension is None:\n",
    "        ext_list = ['']\n",
    "    elif (type(extension) == tuple) or (type(extension) == list):\n",
    "        extension = list(extension)\n",
    "        ext_list = ['.' + str(ii) for ii in extension]\n",
    "    else:\n",
    "        ext_list = ['.' + str(extension)]\n",
    "\n",
    "    # それぞれの拡張子について検索\n",
    "    path_list = []\n",
    "    for ext in ext_list:\n",
    "        path_list += list(dir_p.glob(resc_path + ext))\n",
    "\n",
    "    # strに直す\n",
    "    path_list = [str(ii) for ii in path_list]\n",
    "    # 重複の削除\n",
    "    path_list = sorted(set(path_list), key=path_list.index) # 3.6以降ではl=list(dict.fromkeys(l))でも\n",
    "\n",
    "    return path_list"
   ]
  },
  {
   "cell_type": "code",
   "execution_count": null,
   "metadata": {},
   "outputs": [],
   "source": [
    "# list segmentsのエイリアス\n",
    "ls = list_segments"
   ]
  },
  {
   "cell_type": "markdown",
   "metadata": {},
   "source": [
    "# Load data"
   ]
  },
  {
   "cell_type": "markdown",
   "metadata": {},
   "source": [
    "## get file paths"
   ]
  },
  {
   "cell_type": "code",
   "execution_count": null,
   "metadata": {
    "ExecuteTime": {
     "end_time": "2019-09-05T10:04:29.170938Z",
     "start_time": "2019-09-05T10:04:29.157901Z"
    }
   },
   "outputs": [],
   "source": [
    "# inputディレクトリに置かれたファイルパス一覧\n",
    "paths = ls(input_path)\n",
    "paths"
   ]
  },
  {
   "cell_type": "markdown",
   "metadata": {},
   "source": [
    "# Exploratory data analysis"
   ]
  },
  {
   "cell_type": "markdown",
   "metadata": {},
   "source": [
    "# Preprocessing"
   ]
  },
  {
   "cell_type": "markdown",
   "metadata": {},
   "source": [
    "# Modeling"
   ]
  },
  {
   "cell_type": "markdown",
   "metadata": {},
   "source": [
    "# Predict"
   ]
  },
  {
   "cell_type": "markdown",
   "metadata": {},
   "source": [
    "# Output"
   ]
  },
  {
   "cell_type": "markdown",
   "metadata": {},
   "source": [
    "# Check memory"
   ]
  },
  {
   "cell_type": "code",
   "execution_count": null,
   "metadata": {},
   "outputs": [],
   "source": [
    "mem_cols = ['Variable Name', 'Memory']\n",
    "memory_df = pd.DataFrame(columns=mem_cols)\n",
    "\n",
    "for var_name in dir():\n",
    "    if not var_name.startswith(\"_\"):\n",
    "        memory_df = memory_df.append(pd.DataFrame([[var_name, sys.getsizeof(eval(var_name))]], columns=mem_cols))\n",
    "\n",
    "memory_df = memory_df.sort_values(by='Memory', ascending=False).reset_index(drop=True)\n",
    "display(memory_df)"
   ]
  },
  {
   "cell_type": "code",
   "execution_count": null,
   "metadata": {},
   "outputs": [],
   "source": []
  }
 ],
 "metadata": {
  "kernelspec": {
   "display_name": "Python 3",
   "language": "python",
   "name": "python3"
  },
  "language_info": {
   "codemirror_mode": {
    "name": "ipython",
    "version": 3
   },
   "file_extension": ".py",
   "mimetype": "text/x-python",
   "name": "python",
   "nbconvert_exporter": "python",
   "pygments_lexer": "ipython3",
   "version": "3.7.1"
  },
  "latex_envs": {
   "LaTeX_envs_menu_present": true,
   "autoclose": false,
   "autocomplete": true,
   "bibliofile": "biblio.bib",
   "cite_by": "apalike",
   "current_citInitial": 1,
   "eqLabelWithNumbers": true,
   "eqNumInitial": 1,
   "hotkeys": {
    "equation": "Ctrl-E",
    "itemize": "Ctrl-I"
   },
   "labels_anchors": false,
   "latex_user_defs": false,
   "report_style_numbering": false,
   "user_envs_cfg": false
  },
  "toc": {
   "base_numbering": 1,
   "nav_menu": {},
   "number_sections": true,
   "sideBar": true,
   "skip_h1_title": false,
   "title_cell": "Table of Contents",
   "title_sidebar": "Contents",
   "toc_cell": false,
   "toc_position": {
    "height": "calc(100% - 180px)",
    "left": "10px",
    "top": "150px",
    "width": "288px"
   },
   "toc_section_display": true,
   "toc_window_display": true
  },
  "varInspector": {
   "cols": {
    "lenName": 16,
    "lenType": 16,
    "lenVar": 40
   },
   "kernels_config": {
    "python": {
     "delete_cmd_postfix": "",
     "delete_cmd_prefix": "del ",
     "library": "var_list.py",
     "varRefreshCmd": "print(var_dic_list())"
    },
    "r": {
     "delete_cmd_postfix": ") ",
     "delete_cmd_prefix": "rm(",
     "library": "var_list.r",
     "varRefreshCmd": "cat(var_dic_list()) "
    }
   },
   "types_to_exclude": [
    "module",
    "function",
    "builtin_function_or_method",
    "instance",
    "_Feature"
   ],
   "window_display": false
  }
 },
 "nbformat": 4,
 "nbformat_minor": 2
}
