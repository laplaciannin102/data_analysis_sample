{
 "cells": [
  {
   "cell_type": "markdown",
   "metadata": {},
   "source": [
    "# Load modules"
   ]
  },
  {
   "cell_type": "code",
   "execution_count": 1,
   "metadata": {
    "scrolled": true
   },
   "outputs": [
    {
     "name": "stderr",
     "output_type": "stream",
     "text": [
      "D:\\Programming\\Anaconda\\lib\\site-packages\\sklearn\\externals\\six.py:31: DeprecationWarning: The module is deprecated in version 0.21 and will be removed in version 0.23 since we've dropped support for Python 2.7. Please rely on the official version of six (https://pypi.org/project/six/).\n",
      "  \"(https://pypi.org/project/six/).\", DeprecationWarning)\n"
     ]
    }
   ],
   "source": [
    "import sys, os\n",
    "import gc\n",
    "import time\n",
    "import numpy as np\n",
    "import pandas as pd\n",
    "import seaborn as sns\n",
    "\n",
    "# original\n",
    "import annnmods as am"
   ]
  },
  {
   "cell_type": "code",
   "execution_count": 2,
   "metadata": {
    "scrolled": false
   },
   "outputs": [
    {
     "name": "stdout",
     "output_type": "stream",
     "text": [
      "# 自作moduleのディレクトリ構成\n",
      "以下を想定\n",
      "\n",
      "analysis/\n",
      "  ├ NoteBook.ipynb\n",
      "  ├ Script.py\n",
      "  │\n",
      "  └ annnmods/\n",
      "    ├ __init__.py             # 初期化. 全moduleをimport.\n",
      "    ├ analysis.py             # 分析用module\n",
      "    ├ calculation.py          # 数値計算用module\n",
      "    ├ preprocessing.py        # 前処理用module\n",
      "    ├ scraping.py             # スクレイピング用module\n",
      "    ├ useful.py               # 便利module\n",
      "    ├ visualization.py        # 可視化用module\n",
      "    ├ mod_config.py           # 設定ファイル\n",
      "    ・\n",
      "    ・\n",
      "    └ AnalysisCheatSheet.md   # 分析用チートシート\n",
      "\n",
      "# 使用方法\n",
      "## moduleのimport\n",
      "from annnmods import *\n",
      "または\n",
      "import annnmods as am\n",
      "\n",
      "## moduleの使用方法を確認\n",
      "print_usage()\n",
      "または\n",
      "am.print_usage()\n",
      "\n",
      "[AnalysisCheatSheet.md](./AnalysisCheatSheet.md)も参照\n",
      "\n",
      "## 各関数(functionとする)のdocstringは以下で確認できる\n",
      "print(function.__doc__)\n",
      "\n",
      "■■■■■■■■■■■■■■■■■■■■\n",
      "■■■内部で使用するライブラリ一覧■■■\n",
      "■■■■■■■■■■■■■■■■■■■■\n",
      "    import annnmods as am\n",
      "# from .analysis import *\n",
      "# from .preprocessing import *\n",
      "# from .scraping import *\n",
      "# from .useful import *\n",
      "# from .visualization import *\n",
      "from .analysis import *\n",
      "from .calculation import *\n",
      "from .mod_config import *\n",
      "from .preprocessing import *\n",
      "from .scraping import *\n",
      "from .useful import *\n",
      "from .visualization import *\n",
      "from IPython.display import Image\n",
      "from bs4 import BeautifulSoup\n",
      "from glob import glob\n",
      "from googletrans import Translator\n",
      "from pathlib import Path\n",
      "from sklearn import tree\n",
      "from sklearn.ensemble import RandomForestClassifier\n",
      "from sklearn.externals.six import StringIO\n",
      "from sklearn.linear_model import LinearRegression\n",
      "from sklearn.linear_model import LogisticRegression\n",
      "from sklearn.metrics import accuracy_score\n",
      "from sklearn.metrics import confusion_matrix\n",
      "from sklearn.metrics import f1_score\n",
      "from sklearn.metrics import log_loss\n",
      "from sklearn.metrics import mean_squared_error\n",
      "from sklearn.metrics import precision_score\n",
      "from sklearn.metrics import r2_score\n",
      "from sklearn.metrics import recall_score\n",
      "from sklearn.metrics import roc_auc_score\n",
      "from sklearn.model_selection import GridSearchCV\n",
      "from sklearn.model_selection import train_test_split\n",
      "from sklearn.preprocessing import MinMaxScaler\n",
      "from sklearn.preprocessing import StandardScaler\n",
      "from sklearn.svm import SVC\n",
      "from sklearn.tree import DecisionTreeClassifier\n",
      "from urllib import parse\n",
      "import codecs\n",
      "import configparser\n",
      "import copy\n",
      "import gc\n",
      "import japanize_matplotlib\n",
      "import json\n",
      "import matplotlib.pyplot as plt\n",
      "import numpy as np\n",
      "import pandas as pd\n",
      "import pydotplus as pdp\n",
      "import requests\n",
      "import seaborn as sns\n",
      "import sys, os\n",
      "import time\n",
      "import xgboost as xgb\n",
      "■■■■■■■■■■■■■■■■■■■■\n",
      "\n",
      "\n",
      "■■■■■■■■■■■■■■■■■■■■\n",
      "■■■■■■■自作関数一覧■■■■■■■\n",
      "■■■■■■■■■■■■■■■■■■■■\n",
      "Search(self, keyword, type='text', maximum=100)\n",
      "add_base(self, name, model)\n",
      "add_pp(self, preprocessing=(lambda x: (x[0], x[1])), pp_num=None)\n",
      "check_base_models(self)\n",
      "check_data_list(path_list, encoding='utf-8')\n",
      "check_pp_dict(self)\n",
      "check_var_info(df, target=None, file_name='', filecol_is=False, transcol_is=True)\n",
      "clf_gridsearchCV(data_x, data_y, clf='rfc', param_grid=None, evaluation='accuracy', n_cv=5, n_jobs=-1)\n",
      "cls_pp(df, cols_dict)\n",
      "delete_base(self, name)\n",
      "delete_pp(self, pp_num)\n",
      "dl_all_imgs(url, dir_path='./', extension=['jpg', 'png'], make_dir=True)\n",
      "dmm_pp(df, cols_dict)\n",
      "download_img(url, file_name='./img.jpg', force=False)\n",
      "exe_pp(self)\n",
      "extract_cols(input_df, text='')\n",
      "extract_isone(row, cols=None, sep='/')\n",
      "gen_pp(df, cols_dict)\n",
      "general_preprocessing(df, ignore_cols=[], cls_cols=[], bins_dict=None, cate_cols=[], num_cols=[], scaling=False)\n",
      "get_classes(in_df, columns=None, n_classes=1, drop=False, suffix='_band')\n",
      "get_clf_score_df(self, name, predicts, true_y, class_num=1)\n",
      "get_cross(df, target=None, cols=[], normalize=False)\n",
      "get_domain(url)\n",
      "get_dummies(in_df, columns=[], dummy_na=True, drop_first=False)\n",
      "get_importance(self, figsize=(12, 9))\n",
      "get_links(self, html, type)\n",
      "get_memory_df(dirlist=dir())\n",
      "get_page_df(urls)\n",
      "get_result(self)\n",
      "get_section_text(x, bins, bounds=[False, True])\n",
      "get_soup(url)\n",
      "gettext_fromurl(url)\n",
      "graph(x, y, title='graph', xlabel='x', ylabel='y')\n",
      "in_section(x, section, bounds=[False, True])\n",
      "init_df(self)\n",
      "list_segments(dir_path='./', rescursive=False, extension=None)\n",
      "make_scaling(in_df, columns=[], scaling=False)\n",
      "predict(self, data_x)\n",
      "predict_base(self, data_x)\n",
      "predict_meta(self, base_predicts)\n",
      "print_clf_score(true_y, pred_y, prob_y, class_num=1)\n",
      "print_elapsed_time(start)\n",
      "print_funcs(modules_dir=mod_dir, extension='py')\n",
      "print_imports(modules_dir=mod_dir, extension='py')\n",
      "print_reg_score(true_y, pred_y)\n",
      "print_usage(modules_dir=mod_dir, extension='py')\n",
      "pro_makedirs(dir_path)\n",
      "pro_read_csv(path, encoding='utf-8', usecols=None)\n",
      "pro_round(num, ndigits=0)\n",
      "query_gen(self, keyword, type)\n",
      "ratio_graph(x, y1, y2, xlabel='x', ylabel='y', y1label='y1', y2label='y2', ratio_label='ratio', figsize=(12, 10), fontsize=20, bar_width=0.75)\n",
      "result_to_unique(self, result_df, cols_list)\n",
      "set_bases(self, models)\n",
      "set_bins_dict(self, bins_dict)\n",
      "set_cate_cols(self, cols)\n",
      "set_class_num(self, class_num=1)\n",
      "set_clf_args(self, args)\n",
      "set_clf_model(self, clf)\n",
      "set_clf_result(self, data_x, data_y, pred_y=None, prob_y=None, class_num=1, target='target')\n",
      "set_cls_cols(self, cols)\n",
      "set_df(self, df)\n",
      "set_dtime_cols(self, cols)\n",
      "set_dummy_cols(self, cols)\n",
      "set_ignore_cols(self, cols)\n",
      "set_meta(self, model=None)\n",
      "set_n_classes(self, n_classes=2)\n",
      "set_num_cols(self, cols)\n",
      "set_reg_result(self, data_x, data_y, pred_y, target='target')\n",
      "set_rfc_args(self, args)\n",
      "set_xgbc_args(self, args)\n",
      "sturges_rule(num)\n",
      "text_to_empty(text, delete=[])\n",
      "train(self, train_df)\n",
      "train_xy(self, base_train_x, base_train_y, meta_train_x, meta_train_y)\n",
      "train_xy(self, train_x, train_y)\n",
      "train_xy_base(self, data_x, data_y)\n",
      "train_xy_meta(self, base_predicts, data_y)\n",
      "translate_to_ja(text)\n",
      "validate(self, data_x, data_y)\n",
      "validate(self, data_x, data_y, class_num=1)\n",
      "visualize_tree(self, num_tree=0, class_names=['0', '1'], tree_file='rfc_tree', dir_path='./')\n",
      "■■■■■■■■■■■■■■■■■■■■\n",
      "\n"
     ]
    }
   ],
   "source": [
    "am.print_usage()"
   ]
  },
  {
   "cell_type": "markdown",
   "metadata": {},
   "source": [
    "# Configuration"
   ]
  },
  {
   "cell_type": "markdown",
   "metadata": {},
   "source": [
    "## 左寄せにするマジックコマンド"
   ]
  },
  {
   "cell_type": "code",
   "execution_count": 3,
   "metadata": {},
   "outputs": [
    {
     "data": {
      "text/html": [
       "<style>\n",
       "    table{float:left}\n",
       "    .MathJax{float: left;}\n",
       "</style>\n"
      ],
      "text/plain": [
       "<IPython.core.display.HTML object>"
      ]
     },
     "metadata": {},
     "output_type": "display_data"
    }
   ],
   "source": [
    "%%html\n",
    "<style>\n",
    "    table{float:left}\n",
    "    .MathJax{float: left;}\n",
    "</style>"
   ]
  },
  {
   "cell_type": "markdown",
   "metadata": {},
   "source": [
    "## データフレームの表示設定"
   ]
  },
  {
   "cell_type": "code",
   "execution_count": 4,
   "metadata": {},
   "outputs": [],
   "source": [
    "# データフレームの表示行数、表示列数\n",
    "pd.set_option('display.max_columns', 100)\n",
    "pd.set_option('display.max_rows', 200)\n",
    "\n",
    "# カラム内の文字数。デフォルトは50。\n",
    "pd.set_option(\"display.max_colwidth\", 100)"
   ]
  },
  {
   "cell_type": "markdown",
   "metadata": {},
   "source": [
    "## パスの設定"
   ]
  },
  {
   "cell_type": "code",
   "execution_count": 5,
   "metadata": {},
   "outputs": [],
   "source": [
    "# ファイルのパス\n",
    "path = os.getcwd()\n",
    "# 一応チェンジディレクトリしておく\n",
    "os.chdir(path)"
   ]
  },
  {
   "cell_type": "markdown",
   "metadata": {},
   "source": [
    "# Constants"
   ]
  },
  {
   "cell_type": "markdown",
   "metadata": {},
   "source": [
    "## paths"
   ]
  },
  {
   "cell_type": "code",
   "execution_count": 6,
   "metadata": {},
   "outputs": [],
   "source": [
    "input_path = '../input/'\n",
    "output_path = '../output/'"
   ]
  },
  {
   "cell_type": "markdown",
   "metadata": {},
   "source": [
    "## target"
   ]
  },
  {
   "cell_type": "code",
   "execution_count": 7,
   "metadata": {},
   "outputs": [],
   "source": [
    "target = ''"
   ]
  },
  {
   "cell_type": "markdown",
   "metadata": {},
   "source": [
    "# Functions"
   ]
  },
  {
   "cell_type": "markdown",
   "metadata": {},
   "source": [
    "# Load data"
   ]
  },
  {
   "cell_type": "markdown",
   "metadata": {},
   "source": [
    "## get file paths"
   ]
  },
  {
   "cell_type": "code",
   "execution_count": 8,
   "metadata": {
    "ExecuteTime": {
     "end_time": "2019-09-05T10:04:29.170938Z",
     "start_time": "2019-09-05T10:04:29.157901Z"
    }
   },
   "outputs": [
    {
     "data": {
      "text/plain": [
       "['..\\\\input\\\\.gitkeep']"
      ]
     },
     "execution_count": 8,
     "metadata": {},
     "output_type": "execute_result"
    }
   ],
   "source": [
    "paths = am.list_segments(input_path)\n",
    "paths"
   ]
  },
  {
   "cell_type": "markdown",
   "metadata": {},
   "source": [
    "# Exploratory data analysis"
   ]
  },
  {
   "cell_type": "markdown",
   "metadata": {},
   "source": [
    "# Preprocessing"
   ]
  },
  {
   "cell_type": "markdown",
   "metadata": {},
   "source": [
    "# Modeling"
   ]
  },
  {
   "cell_type": "markdown",
   "metadata": {},
   "source": [
    "# Predict"
   ]
  },
  {
   "cell_type": "markdown",
   "metadata": {},
   "source": [
    "# Check memory"
   ]
  },
  {
   "cell_type": "code",
   "execution_count": 9,
   "metadata": {},
   "outputs": [
    {
     "data": {
      "text/html": [
       "<div>\n",
       "<style scoped>\n",
       "    .dataframe tbody tr th:only-of-type {\n",
       "        vertical-align: middle;\n",
       "    }\n",
       "\n",
       "    .dataframe tbody tr th {\n",
       "        vertical-align: top;\n",
       "    }\n",
       "\n",
       "    .dataframe thead th {\n",
       "        text-align: right;\n",
       "    }\n",
       "</style>\n",
       "<table border=\"1\" class=\"dataframe\">\n",
       "  <thead>\n",
       "    <tr style=\"text-align: right;\">\n",
       "      <th></th>\n",
       "      <th>Variable Name</th>\n",
       "      <th>Memory</th>\n",
       "    </tr>\n",
       "  </thead>\n",
       "  <tbody>\n",
       "    <tr>\n",
       "      <th>0</th>\n",
       "      <td>memory_df</td>\n",
       "      <td>1205</td>\n",
       "    </tr>\n",
       "    <tr>\n",
       "      <th>1</th>\n",
       "      <td>NamespaceMagics</td>\n",
       "      <td>888</td>\n",
       "    </tr>\n",
       "    <tr>\n",
       "      <th>2</th>\n",
       "      <td>Out</td>\n",
       "      <td>240</td>\n",
       "    </tr>\n",
       "    <tr>\n",
       "      <th>3</th>\n",
       "      <td>path</td>\n",
       "      <td>225</td>\n",
       "    </tr>\n",
       "    <tr>\n",
       "      <th>4</th>\n",
       "      <td>In</td>\n",
       "      <td>192</td>\n",
       "    </tr>\n",
       "    <tr>\n",
       "      <th>5</th>\n",
       "      <td>get_ipython</td>\n",
       "      <td>136</td>\n",
       "    </tr>\n",
       "    <tr>\n",
       "      <th>6</th>\n",
       "      <td>var_dic_list</td>\n",
       "      <td>136</td>\n",
       "    </tr>\n",
       "    <tr>\n",
       "      <th>7</th>\n",
       "      <td>paths</td>\n",
       "      <td>96</td>\n",
       "    </tr>\n",
       "    <tr>\n",
       "      <th>8</th>\n",
       "      <td>am</td>\n",
       "      <td>80</td>\n",
       "    </tr>\n",
       "    <tr>\n",
       "      <th>9</th>\n",
       "      <td>time</td>\n",
       "      <td>80</td>\n",
       "    </tr>\n",
       "    <tr>\n",
       "      <th>10</th>\n",
       "      <td>sys</td>\n",
       "      <td>80</td>\n",
       "    </tr>\n",
       "    <tr>\n",
       "      <th>11</th>\n",
       "      <td>sns</td>\n",
       "      <td>80</td>\n",
       "    </tr>\n",
       "    <tr>\n",
       "      <th>12</th>\n",
       "      <td>pd</td>\n",
       "      <td>80</td>\n",
       "    </tr>\n",
       "    <tr>\n",
       "      <th>13</th>\n",
       "      <td>np</td>\n",
       "      <td>80</td>\n",
       "    </tr>\n",
       "    <tr>\n",
       "      <th>14</th>\n",
       "      <td>os</td>\n",
       "      <td>80</td>\n",
       "    </tr>\n",
       "    <tr>\n",
       "      <th>15</th>\n",
       "      <td>gc</td>\n",
       "      <td>80</td>\n",
       "    </tr>\n",
       "    <tr>\n",
       "      <th>16</th>\n",
       "      <td>mem_cols</td>\n",
       "      <td>80</td>\n",
       "    </tr>\n",
       "    <tr>\n",
       "      <th>17</th>\n",
       "      <td>json</td>\n",
       "      <td>80</td>\n",
       "    </tr>\n",
       "    <tr>\n",
       "      <th>18</th>\n",
       "      <td>getsizeof</td>\n",
       "      <td>72</td>\n",
       "    </tr>\n",
       "    <tr>\n",
       "      <th>19</th>\n",
       "      <td>output_path</td>\n",
       "      <td>59</td>\n",
       "    </tr>\n",
       "    <tr>\n",
       "      <th>20</th>\n",
       "      <td>input_path</td>\n",
       "      <td>58</td>\n",
       "    </tr>\n",
       "    <tr>\n",
       "      <th>21</th>\n",
       "      <td>exit</td>\n",
       "      <td>56</td>\n",
       "    </tr>\n",
       "    <tr>\n",
       "      <th>22</th>\n",
       "      <td>quit</td>\n",
       "      <td>56</td>\n",
       "    </tr>\n",
       "    <tr>\n",
       "      <th>23</th>\n",
       "      <td>target</td>\n",
       "      <td>49</td>\n",
       "    </tr>\n",
       "  </tbody>\n",
       "</table>\n",
       "</div>"
      ],
      "text/plain": [
       "      Variable Name Memory\n",
       "0         memory_df   1205\n",
       "1   NamespaceMagics    888\n",
       "2               Out    240\n",
       "3              path    225\n",
       "4                In    192\n",
       "5       get_ipython    136\n",
       "6      var_dic_list    136\n",
       "7             paths     96\n",
       "8                am     80\n",
       "9              time     80\n",
       "10              sys     80\n",
       "11              sns     80\n",
       "12               pd     80\n",
       "13               np     80\n",
       "14               os     80\n",
       "15               gc     80\n",
       "16         mem_cols     80\n",
       "17             json     80\n",
       "18        getsizeof     72\n",
       "19      output_path     59\n",
       "20       input_path     58\n",
       "21             exit     56\n",
       "22             quit     56\n",
       "23           target     49"
      ]
     },
     "metadata": {},
     "output_type": "display_data"
    }
   ],
   "source": [
    "mem_cols = ['Variable Name', 'Memory']\n",
    "memory_df = pd.DataFrame(columns=mem_cols)\n",
    "\n",
    "for var_name in dir():\n",
    "    if not var_name.startswith(\"_\"):\n",
    "        memory_df = memory_df.append(pd.DataFrame([[var_name, sys.getsizeof(eval(var_name))]], columns=mem_cols))\n",
    "\n",
    "memory_df = memory_df.sort_values(by='Memory', ascending=False).reset_index(drop=True)\n",
    "display(memory_df)"
   ]
  },
  {
   "cell_type": "code",
   "execution_count": null,
   "metadata": {},
   "outputs": [],
   "source": []
  },
  {
   "cell_type": "code",
   "execution_count": null,
   "metadata": {},
   "outputs": [],
   "source": []
  }
 ],
 "metadata": {
  "kernelspec": {
   "display_name": "Python 3",
   "language": "python",
   "name": "python3"
  },
  "language_info": {
   "codemirror_mode": {
    "name": "ipython",
    "version": 3
   },
   "file_extension": ".py",
   "mimetype": "text/x-python",
   "name": "python",
   "nbconvert_exporter": "python",
   "pygments_lexer": "ipython3",
   "version": "3.7.1"
  },
  "latex_envs": {
   "LaTeX_envs_menu_present": true,
   "autoclose": false,
   "autocomplete": true,
   "bibliofile": "biblio.bib",
   "cite_by": "apalike",
   "current_citInitial": 1,
   "eqLabelWithNumbers": true,
   "eqNumInitial": 1,
   "hotkeys": {
    "equation": "Ctrl-E",
    "itemize": "Ctrl-I"
   },
   "labels_anchors": false,
   "latex_user_defs": false,
   "report_style_numbering": false,
   "user_envs_cfg": false
  },
  "toc": {
   "base_numbering": 1,
   "nav_menu": {},
   "number_sections": true,
   "sideBar": true,
   "skip_h1_title": false,
   "title_cell": "Table of Contents",
   "title_sidebar": "Contents",
   "toc_cell": false,
   "toc_position": {
    "height": "calc(100% - 180px)",
    "left": "10px",
    "top": "150px",
    "width": "288px"
   },
   "toc_section_display": true,
   "toc_window_display": true
  },
  "varInspector": {
   "cols": {
    "lenName": 16,
    "lenType": 16,
    "lenVar": 40
   },
   "kernels_config": {
    "python": {
     "delete_cmd_postfix": "",
     "delete_cmd_prefix": "del ",
     "library": "var_list.py",
     "varRefreshCmd": "print(var_dic_list())"
    },
    "r": {
     "delete_cmd_postfix": ") ",
     "delete_cmd_prefix": "rm(",
     "library": "var_list.r",
     "varRefreshCmd": "cat(var_dic_list()) "
    }
   },
   "types_to_exclude": [
    "module",
    "function",
    "builtin_function_or_method",
    "instance",
    "_Feature"
   ],
   "window_display": false
  }
 },
 "nbformat": 4,
 "nbformat_minor": 2
}
